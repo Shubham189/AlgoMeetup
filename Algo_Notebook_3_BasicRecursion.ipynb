{
 "cells": [
  {
   "cell_type": "markdown",
   "metadata": {},
   "source": [
    "## Practice Problems"
   ]
  },
  {
   "cell_type": "markdown",
   "metadata": {},
   "source": [
    "- Given a list of goal differences in matches played by Manchester United, find the maximum undefeated streak. \n",
    " ```\n",
    " GD:  [2, 1, -2, 0, 0,2,-1, 2, 1, 2, 0, -2, -3, 3, 1]. Streak: Match 7-10\n",
    " Mt:  [0, 1, 2, 3, 4, 5, 6, 7, 8, 9, 10,11,12,13,14]. \n",
    " ```\n",
    " \n",
    " - Solved by straightforward \"sliding window\": keep two indexes and advance one of them only when a negative number is encountered"
   ]
  },
  {
   "cell_type": "markdown",
   "metadata": {},
   "source": [
    "- In the above situation, find the highest number of consecutive matches whose total goal difference would be 0. (7-12)\n",
    "    - if ( sum of 0->j ) == ( sum of 0->n ) : (sum of j+1 ->n) = 0.\n",
    "    - Use a dict to store cumulative sum at every index if sum at current index does not exist"
   ]
  },
  {
   "cell_type": "markdown",
   "metadata": {},
   "source": [
    "```\n",
    "\n",
    "\n",
    "\n",
    "\n",
    "\n",
    "\n",
    "\n",
    "\n",
    "```"
   ]
  },
  {
   "cell_type": "markdown",
   "metadata": {},
   "source": [
    "# Je m'appelle Recursion"
   ]
  },
  {
   "cell_type": "code",
   "execution_count": 3,
   "metadata": {},
   "outputs": [],
   "source": [
    "def recurse(n):\n",
    "    if n<1:\n",
    "        return \n",
    "    print(f\"{n}\")\n",
    "    recurse(n-1)"
   ]
  },
  {
   "cell_type": "code",
   "execution_count": 4,
   "metadata": {},
   "outputs": [
    {
     "name": "stdout",
     "output_type": "stream",
     "text": [
      "5\n",
      "4\n",
      "3\n",
      "2\n",
      "1\n"
     ]
    }
   ],
   "source": [
    "recurse(5)"
   ]
  },
  {
   "cell_type": "markdown",
   "metadata": {},
   "source": [
    "### Mostly used in situations where there is a nested structure:\n",
    "1. Backtracking (Example: Maze)\n",
    "2. Tree based problems\n",
    "3. Finding combinations \n",
    "\n",
    "```\n",
    "\n",
    "\n",
    "```\n",
    "- Time complexity shortcut: O(branches\\**depth)"
   ]
  },
  {
   "cell_type": "markdown",
   "metadata": {},
   "source": [
    "```\n",
    "\n",
    "\n",
    "\n",
    "```\n",
    "\n",
    "### [Tower of Hanoi](https://en.wikipedia.org/wiki/Tower_of_Hanoi)\n"
   ]
  },
  {
   "cell_type": "code",
   "execution_count": 6,
   "metadata": {},
   "outputs": [],
   "source": [
    "# Code from wikipedia's article linked above\n",
    "\n",
    "def move(n, source, target, auxiliary):\n",
    "    if n > 0:\n",
    "        # Move n - 1 disks from source to auxiliary, so they are out of the way\n",
    "        move(n - 1, source, auxiliary, target)\n",
    "\n",
    "        # Move the nth disk from source to target\n",
    "        target.append(source.pop())\n",
    "\n",
    "        # Display our progress\n",
    "        print(A, B, C, '##############', sep='\\n')\n",
    "\n",
    "        # Move the n - 1 disks that we left on auxiliary onto target\n",
    "        move(n - 1, auxiliary, target, source)"
   ]
  },
  {
   "cell_type": "code",
   "execution_count": 11,
   "metadata": {},
   "outputs": [
    {
     "name": "stdout",
     "output_type": "stream",
     "text": [
      "[3, 2]\n",
      "[]\n",
      "[1]\n",
      "##############\n",
      "[3]\n",
      "[2]\n",
      "[1]\n",
      "##############\n",
      "[3]\n",
      "[2, 1]\n",
      "[]\n",
      "##############\n",
      "[]\n",
      "[2, 1]\n",
      "[3]\n",
      "##############\n",
      "[1]\n",
      "[2]\n",
      "[3]\n",
      "##############\n",
      "[1]\n",
      "[]\n",
      "[3, 2]\n",
      "##############\n",
      "[]\n",
      "[]\n",
      "[3, 2, 1]\n",
      "##############\n"
     ]
    }
   ],
   "source": [
    "A = [3, 2, 1]\n",
    "B = []\n",
    "C = []\n",
    "move(3, A, C, B)"
   ]
  },
  {
   "cell_type": "markdown",
   "metadata": {},
   "source": [
    "```\n",
    "\n",
    "\n",
    "```\n",
    "### Find number of ways to add up to a target amount if we have certain denominations. (Coin-change problem)\n",
    "\n",
    "- Example: For 20, if we have 10 and 5, we can do it in [10, 10], [5, 5, 10], [5, 5, 5, 5]"
   ]
  },
  {
   "cell_type": "code",
   "execution_count": 164,
   "metadata": {},
   "outputs": [],
   "source": [
    "def get_coins(money, den):\n",
    "    if money<0 or not den:\n",
    "        return None\n",
    "    start = 0\n",
    "    coin_sum = 0 \n",
    "    aux = []\n",
    "    \n",
    "    def coins_helper(start, aux, coin_sum):\n",
    "        #Base conditions\n",
    "        if coin_sum > money:\n",
    "            return \n",
    "        if coin_sum == money:\n",
    "            print(aux)\n",
    "            return\n",
    "        \n",
    "        for i in range(start, len(den)):\n",
    "            aux.append(den[i])\n",
    "            coins_helper(i, aux, coin_sum+den[i])\n",
    "            aux.pop()\n",
    "            \n",
    "            \n",
    "    return coins_helper(start, aux, coin_sum)"
   ]
  },
  {
   "cell_type": "code",
   "execution_count": 165,
   "metadata": {},
   "outputs": [
    {
     "name": "stdout",
     "output_type": "stream",
     "text": [
      "[1, 1, 1, 1, 1]\n",
      "[1, 1, 1, 2]\n",
      "[1, 2, 2]\n",
      "[5]\n"
     ]
    }
   ],
   "source": [
    "q = get_coins(5, [1,2,5])"
   ]
  },
  {
   "cell_type": "markdown",
   "metadata": {},
   "source": [
    "### Find all combinations of size S among elements of a list.\n",
    "- Example: [1,2,3] Size : 2. => 1,2   2,3  1,3"
   ]
  },
  {
   "cell_type": "code",
   "execution_count": 198,
   "metadata": {},
   "outputs": [],
   "source": [
    "def find_combinations(a, size):\n",
    "    if not a or size<1:\n",
    "        return \n",
    "    aux = []\n",
    "    \n",
    "    def helper(a, aux, start, current):\n",
    "        # Base case for full auxiliary array\n",
    "        if current == size:\n",
    "            print(aux)    # Try printing before condition ;) \n",
    "            return\n",
    "        \n",
    "        if start == len(a):\n",
    "            return \n",
    "        \n",
    "        for i in range(start, len(a)):\n",
    "            aux.append(a[i])  # cn also use indexing if array already initialized\n",
    "            helper(a, aux, i+1, current+1)\n",
    "            aux.pop()\n",
    "            \n",
    "    return helper(a, aux, start=0, current=0)"
   ]
  },
  {
   "cell_type": "code",
   "execution_count": 199,
   "metadata": {},
   "outputs": [
    {
     "name": "stdout",
     "output_type": "stream",
     "text": [
      "[10, 11]\n",
      "[10, 12]\n",
      "[11, 12]\n"
     ]
    }
   ],
   "source": [
    "find_combinations([10, 11, 12], 2)"
   ]
  },
  {
   "cell_type": "markdown",
   "metadata": {},
   "source": [
    "### [For practical purposes, use this itertools module](https://docs.python.org/3/library/itertools.html)"
   ]
  },
  {
   "cell_type": "code",
   "execution_count": 200,
   "metadata": {},
   "outputs": [
    {
     "name": "stdout",
     "output_type": "stream",
     "text": [
      "[(1, 2), (1, 3), (2, 3)]\n"
     ]
    },
    {
     "data": {
      "text/plain": [
       "[(1, 2), (1, 3), (2, 1), (2, 3), (3, 1), (3, 2)]"
      ]
     },
     "execution_count": 200,
     "metadata": {},
     "output_type": "execute_result"
    }
   ],
   "source": [
    "from itertools import combinations, permutations, product\n",
    "\n",
    "print(list(combinations([1,2,3], 2)))\n",
    "list(permutations([1,2,3], 2))"
   ]
  },
  {
   "cell_type": "markdown",
   "metadata": {},
   "source": [
    "```\n",
    "\n",
    "\n",
    "\n",
    "```\n",
    "\n",
    "### Which words can be formed from a number entered into a T9 keypad? "
   ]
  },
  {
   "cell_type": "code",
   "execution_count": 242,
   "metadata": {},
   "outputs": [],
   "source": [
    "from itertools import product\n",
    "\n",
    "\n",
    "def t_nine(num):\n",
    "    \n",
    "    if not num:\n",
    "        return \n",
    "    \n",
    "    num = str(num)\n",
    "    \n",
    "    KEYPAD = {\n",
    "    '2': 'abc',\n",
    "    '3': 'def',\n",
    "    '4': 'ghi',\n",
    "    '5': 'jkl',\n",
    "    '6': 'mno',\n",
    "    '7': 'pqrs',\n",
    "    '8': 'tuv',\n",
    "    '9': 'wxyz'\n",
    "    }\n",
    "    \n",
    "    keymaps = map(KEYPAD.get, num)\n",
    "    return [''.join(i) for i in product(*keymaps)]"
   ]
  },
  {
   "cell_type": "code",
   "execution_count": 243,
   "metadata": {},
   "outputs": [
    {
     "data": {
      "text/plain": [
       "['aad',\n",
       " 'aae',\n",
       " 'aaf',\n",
       " 'abd',\n",
       " 'abe',\n",
       " 'abf',\n",
       " 'acd',\n",
       " 'ace',\n",
       " 'acf',\n",
       " 'bad',\n",
       " 'bae',\n",
       " 'baf',\n",
       " 'bbd',\n",
       " 'bbe',\n",
       " 'bbf',\n",
       " 'bcd',\n",
       " 'bce',\n",
       " 'bcf',\n",
       " 'cad',\n",
       " 'cae',\n",
       " 'caf',\n",
       " 'cbd',\n",
       " 'cbe',\n",
       " 'cbf',\n",
       " 'ccd',\n",
       " 'cce',\n",
       " 'ccf']"
      ]
     },
     "execution_count": 243,
     "metadata": {},
     "output_type": "execute_result"
    }
   ],
   "source": [
    "\n",
    "t_nine(223)"
   ]
  },
  {
   "cell_type": "markdown",
   "metadata": {},
   "source": [
    "```\n",
    "\n",
    "\n",
    "\n",
    "\n",
    "\n",
    "\n",
    "\n",
    "```\n",
    "\n",
    "### Recursion is basically stacked function calls. So, what is stack?"
   ]
  },
  {
   "cell_type": "code",
   "execution_count": 252,
   "metadata": {},
   "outputs": [],
   "source": [
    "class Stack:\n",
    "    def __init__(self):\n",
    "        self.val = []\n",
    "    \n",
    "    def push(self, x):\n",
    "        self.val.append(x)\n",
    "    \n",
    "    def pop(self):\n",
    "        if self.val: return self.val.pop() \n",
    "    \n",
    "    def peek(self):\n",
    "        return self.val[-1]\n",
    "    "
   ]
  },
  {
   "cell_type": "code",
   "execution_count": 253,
   "metadata": {},
   "outputs": [],
   "source": [
    "s = Stack()"
   ]
  },
  {
   "cell_type": "code",
   "execution_count": 254,
   "metadata": {},
   "outputs": [],
   "source": [
    "s.push(4)"
   ]
  },
  {
   "cell_type": "code",
   "execution_count": 255,
   "metadata": {},
   "outputs": [],
   "source": [
    "s.push(3)"
   ]
  },
  {
   "cell_type": "code",
   "execution_count": 256,
   "metadata": {},
   "outputs": [],
   "source": [
    "s.push(1)"
   ]
  },
  {
   "cell_type": "code",
   "execution_count": 257,
   "metadata": {},
   "outputs": [
    {
     "data": {
      "text/plain": [
       "1"
      ]
     },
     "execution_count": 257,
     "metadata": {},
     "output_type": "execute_result"
    }
   ],
   "source": [
    "s.peek()"
   ]
  },
  {
   "cell_type": "code",
   "execution_count": 258,
   "metadata": {},
   "outputs": [
    {
     "data": {
      "text/plain": [
       "1"
      ]
     },
     "execution_count": 258,
     "metadata": {},
     "output_type": "execute_result"
    }
   ],
   "source": [
    "s.pop()"
   ]
  },
  {
   "cell_type": "code",
   "execution_count": 259,
   "metadata": {},
   "outputs": [
    {
     "data": {
      "text/plain": [
       "3"
      ]
     },
     "execution_count": 259,
     "metadata": {},
     "output_type": "execute_result"
    }
   ],
   "source": [
    "s.peek()"
   ]
  },
  {
   "cell_type": "markdown",
   "metadata": {},
   "source": [
    "### Stacks are used in syntax parsing, expression evaluation, storing history(undo-redo, back) etc\n",
    "\n",
    "### Another similar data structure is a Queue\n"
   ]
  },
  {
   "cell_type": "code",
   "execution_count": 260,
   "metadata": {},
   "outputs": [],
   "source": [
    "class Queue:\n",
    "    def __init__(self):\n",
    "        self.val = []\n",
    "    \n",
    "    def push(self, x):\n",
    "        self.val.append(x)\n",
    "    \n",
    "    def remove(self):\n",
    "        if self.val: return self.val.pop(0) \n",
    "    \n",
    "    def peek(self):\n",
    "        return self.val[0]"
   ]
  },
  {
   "cell_type": "code",
   "execution_count": 261,
   "metadata": {},
   "outputs": [],
   "source": [
    "q = Queue()"
   ]
  },
  {
   "cell_type": "code",
   "execution_count": 262,
   "metadata": {},
   "outputs": [],
   "source": [
    "q.push(1)\n",
    "q.push(2)\n",
    "q.push(3)"
   ]
  },
  {
   "cell_type": "code",
   "execution_count": 263,
   "metadata": {},
   "outputs": [
    {
     "data": {
      "text/plain": [
       "1"
      ]
     },
     "execution_count": 263,
     "metadata": {},
     "output_type": "execute_result"
    }
   ],
   "source": [
    "q.peek()"
   ]
  },
  {
   "cell_type": "code",
   "execution_count": 264,
   "metadata": {},
   "outputs": [
    {
     "data": {
      "text/plain": [
       "1"
      ]
     },
     "execution_count": 264,
     "metadata": {},
     "output_type": "execute_result"
    }
   ],
   "source": [
    "q.remove()"
   ]
  },
  {
   "cell_type": "code",
   "execution_count": 265,
   "metadata": {},
   "outputs": [
    {
     "data": {
      "text/plain": [
       "2"
      ]
     },
     "execution_count": 265,
     "metadata": {},
     "output_type": "execute_result"
    }
   ],
   "source": [
    "q.peek()"
   ]
  },
  {
   "cell_type": "markdown",
   "metadata": {},
   "source": [
    "### Queues are used in synchronization using producer-consumer pattern, web servers, printers etc"
   ]
  },
  {
   "cell_type": "code",
   "execution_count": null,
   "metadata": {},
   "outputs": [],
   "source": []
  }
 ],
 "metadata": {
  "kernelspec": {
   "display_name": "Python 3",
   "language": "python",
   "name": "python3"
  },
  "language_info": {
   "codemirror_mode": {
    "name": "ipython",
    "version": 3
   },
   "file_extension": ".py",
   "mimetype": "text/x-python",
   "name": "python",
   "nbconvert_exporter": "python",
   "pygments_lexer": "ipython3",
   "version": "3.7.4"
  }
 },
 "nbformat": 4,
 "nbformat_minor": 4
}
