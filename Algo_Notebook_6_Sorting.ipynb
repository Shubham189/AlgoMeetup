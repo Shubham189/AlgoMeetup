{
 "cells": [
  {
   "cell_type": "markdown",
   "metadata": {},
   "source": [
    "## QuickSort"
   ]
  },
  {
   "cell_type": "markdown",
   "metadata": {},
   "source": [
    "## Most commonly used algorithm"
   ]
  },
  {
   "cell_type": "markdown",
   "metadata": {},
   "source": [
    "- Pick Pivot\n",
    "- Rearrange"
   ]
  },
  {
   "cell_type": "markdown",
   "metadata": {},
   "source": [
    "```\n",
    "5,8,7,3,4,9,1,6,2 => 1,2,3,4,5,6,7,8,9\n",
    "\n",
    "5,8,7,3,4,9,1,6,2 => Choose Pivot 3\n",
    "\n",
    "1,2,3,5,8,7,4,9,6 => Divide into two arrays: 1,2  AND 5,8,7,4,9,6\n",
    "\n",
    "    1,2 => sorted\n",
    "    \n",
    "        5,8,7,4,9,6 => Choose Pivot 7\n",
    "\n",
    "            5,4,6,7,8,9 => Divide into two arrays: 5,4,6 AND 8,9 \n",
    "    \n",
    "                5,4,6 => Choose Pivot 5\n",
    "                4,5,6 => sorted\n",
    "\n",
    "            8,9 => sorted\n",
    "        returns 1st part + 7 + 2nd part => 4,5,6,7,8,9\n",
    "    returns 1st part + 3 + 2nd part => 1,2,3,4,5,6,7,8,9\n",
    "    \n",
    "```"
   ]
  },
  {
   "cell_type": "code",
   "execution_count": 3,
   "metadata": {},
   "outputs": [],
   "source": [
    "def quicksort(a):\n",
    "    from random import random\n",
    "    if not a :\n",
    "        return\n",
    "    \n",
    "    size = len(a)\n",
    "    \n",
    "    def sorter(a, low, high):\n",
    "        \n",
    "        if low>high or low<0 or high>size :\n",
    "            return\n",
    "        \n",
    "        pivot = low + int(random()*(high-low+1))\n",
    "        \n",
    "        start, finish = partition(a, low, high, pivot)\n",
    "        \n",
    "        sorter(a, low, start)\n",
    "        sorter(a, finish, high)\n",
    "        \n",
    "    \n",
    "    sorter(a,0,size-1)\n",
    "    return a"
   ]
  },
  {
   "cell_type": "markdown",
   "metadata": {},
   "source": [
    "```\n",
    "5,8,7,3,4,9,1,6,2 => Partition around 5\n",
    "\n",
    "Either current element is=> \n",
    "\n",
    "1. Equal to 5\n",
    "2. Less than 5\n",
    "3. Greater than 5\n",
    "\n",
    "To develop intuition, choose an example with all three cases and algorithm in the middle of its run\n",
    "\n",
    "low=3, high=1, current = 4\n",
    "\n",
    "3 4 5921 => 4 is less than 5 but that is also the low, so we move on..both current and lower indices increase.\n",
    "\n",
    "34 5 921 => we have 5 at current index, so we move on.\n",
    "\n",
    "345 9 21 => we have 9, greater than 5, so we swap with highest index=> 345 1 29, now highest becomes 2's index\n",
    "\n",
    "345 1 29 => 1 is less than 5, so we swap with lower index=> 341 5 29=> move low and current\n",
    "\n",
    "3415 2 9 => 2<5 , so swap with low => 341259\n",
    "\n",
    "```"
   ]
  },
  {
   "cell_type": "code",
   "execution_count": 4,
   "metadata": {},
   "outputs": [],
   "source": [
    "def partition(a, low, high, pivotIndex):\n",
    "    pivot = a[pivotIndex]\n",
    "    \n",
    "    start = low-1\n",
    "    finish = high+1\n",
    "    mid = low-1\n",
    "    \n",
    "    while(mid+1<finish):\n",
    "        if a[mid+1]>pivot:\n",
    "            a[finish-1], a[mid+1] = a[mid+1], a[finish-1]\n",
    "            finish-=1\n",
    "        elif a[mid+1] == pivot:\n",
    "            mid+=1\n",
    "        else:\n",
    "            a[mid+1], a[start+1] = a[start+1], a[mid+1]\n",
    "            start+=1\n",
    "            mid+=1\n",
    "    return start, finish\n"
   ]
  },
  {
   "cell_type": "code",
   "execution_count": 5,
   "metadata": {},
   "outputs": [
    {
     "data": {
      "text/plain": [
       "(0, 2)"
      ]
     },
     "execution_count": 5,
     "metadata": {},
     "output_type": "execute_result"
    }
   ],
   "source": [
    "partition([3,4,2,1],0,3,2)"
   ]
  },
  {
   "cell_type": "code",
   "execution_count": 7,
   "metadata": {},
   "outputs": [
    {
     "name": "stdout",
     "output_type": "stream",
     "text": [
      "CPU times: user 5 µs, sys: 1 µs, total: 6 µs\n",
      "Wall time: 10 µs\n"
     ]
    },
    {
     "data": {
      "text/plain": [
       "[3, 4, 2, 1, 5, 12, 4, 0, 56, 653]"
      ]
     },
     "execution_count": 7,
     "metadata": {},
     "output_type": "execute_result"
    }
   ],
   "source": [
    "%time\n",
    "a = [3,4,2,1, 56, 653, 12, 4, 0, 5]\n",
    "partition(a,0,len(a)-1,4)\n",
    "a"
   ]
  },
  {
   "cell_type": "code",
   "execution_count": 28,
   "metadata": {},
   "outputs": [
    {
     "data": {
      "text/plain": [
       "[0, 1, 2, 3, 4, 4, 5, 12, 56, 653]"
      ]
     },
     "execution_count": 28,
     "metadata": {},
     "output_type": "execute_result"
    }
   ],
   "source": [
    "quicksort(a)"
   ]
  },
  {
   "cell_type": "markdown",
   "metadata": {},
   "source": [
    "- QuickSort takes O(nlogn) in the average case and O(n^2) in the worst case.\n",
    "- QuickSort is preferred because its in-place (No extra space)."
   ]
  },
  {
   "cell_type": "markdown",
   "metadata": {},
   "source": [
    "## MergeSort\n",
    "\n",
    "```\n",
    "3,4,2,1, 56, 653, 12, 4, 0, 5 => divide and conquer\n",
    "\n",
    "            3,4,2,1,56    653,12,4,0,5\n",
    "\n",
    "    3,4,2  1,56    653,12,4  0,5\n",
    "\n",
    "3,4   2   1-56    653,12   4   0-5\n",
    "\n",
    "3-4 2   1-56       12-653   4   0-5\n",
    "\n",
    "2-3-4 1-56      4-12-653   0-5\n",
    "\n",
    "1-2-3-4-56      0-4-5-12-653\n",
    "\n",
    "0-1-2-3-4-4-5-12-56-653\n",
    "```"
   ]
  },
  {
   "cell_type": "code",
   "execution_count": 19,
   "metadata": {},
   "outputs": [],
   "source": [
    "def mergesort(a):\n",
    "    \n",
    "    def merger(a, low, high):\n",
    "        \n",
    "        if high<=low:\n",
    "            return\n",
    "        \n",
    "        mid = low + (high-low)//2\n",
    "        \n",
    "        merger(a, low, mid)\n",
    "        merger(a, mid+1, high)\n",
    "        \n",
    "        merge(a, low, mid, high)\n",
    "        \n",
    "    merger(a, 0,len(a)-1)\n",
    "    \n",
    "    return a        "
   ]
  },
  {
   "cell_type": "code",
   "execution_count": 20,
   "metadata": {},
   "outputs": [
    {
     "data": {
      "text/plain": [
       "[0, 1, 2, 3, 4, 4, 5, 12, 56, 653]"
      ]
     },
     "execution_count": 20,
     "metadata": {},
     "output_type": "execute_result"
    }
   ],
   "source": [
    "mergesort([3,4,2,1, 56, 653, 12, 4, 0, 5])"
   ]
  },
  {
   "cell_type": "code",
   "execution_count": 21,
   "metadata": {},
   "outputs": [],
   "source": [
    "# a[low..mid..high]\n",
    "def merge(a, low, mid, high):\n",
    "    result = []\n",
    "    \n",
    "    i = low\n",
    "    j = mid+1\n",
    "    \n",
    "    while(i <= mid and j <= high):\n",
    "        if a[i] < a[j]:\n",
    "            result.append(a[i])\n",
    "            i+=1\n",
    "        else:\n",
    "            result.append(a[j])\n",
    "            j+=1\n",
    "    \n",
    "    while(i <= mid):\n",
    "        result.append(a[i])\n",
    "        i+=1\n",
    "    \n",
    "    while(j <= high):\n",
    "        result.append(a[j])\n",
    "        j+=1\n",
    "        \n",
    "    for i in range(len(result)):\n",
    "        a[low+i] = result[i]"
   ]
  },
  {
   "cell_type": "code",
   "execution_count": 22,
   "metadata": {},
   "outputs": [
    {
     "data": {
      "text/plain": [
       "[1, 2, 3, 3, 4, 5]"
      ]
     },
     "execution_count": 22,
     "metadata": {},
     "output_type": "execute_result"
    }
   ],
   "source": [
    "a = [3,4,5,1,2,3]\n",
    "merge(a, 0, 2, 5)\n",
    "a"
   ]
  },
  {
   "cell_type": "markdown",
   "metadata": {},
   "source": [
    "```\n",
    "\n",
    "\n",
    "\n",
    "\n",
    "\n",
    "\n",
    "\n",
    "```\n",
    "\n",
    "## Stability in Sorting"
   ]
  },
  {
   "cell_type": "markdown",
   "metadata": {},
   "source": [
    "### [1,2,3,3,3,4,4,5] => The first 3 should be the first 3\n",
    "\n",
    "```\n",
    "\n",
    "Can be solved if we create a new data structure with 3a, 3b, etc \n",
    "\n",
    "```"
   ]
  },
  {
   "cell_type": "markdown",
   "metadata": {},
   "source": [
    "## which sort method to use?"
   ]
  },
  {
   "cell_type": "markdown",
   "metadata": {},
   "source": [
    "```\n",
    "For telephone numbers, probably counting sort. For most case integers, quicksort.\n",
    "\n",
    "```"
   ]
  },
  {
   "cell_type": "code",
   "execution_count": null,
   "metadata": {},
   "outputs": [],
   "source": []
  },
  {
   "cell_type": "code",
   "execution_count": 8,
   "metadata": {},
   "outputs": [],
   "source": [
    "class Fun():\n",
    "    def __init__(self,x):\n",
    "        self.funny = x\n",
    "        "
   ]
  },
  {
   "cell_type": "code",
   "execution_count": 11,
   "metadata": {},
   "outputs": [
    {
     "data": {
      "text/plain": [
       "[<__main__.Fun at 0x1109b55d0>,\n",
       " <__main__.Fun at 0x1109b5590>,\n",
       " <__main__.Fun at 0x1109b5510>,\n",
       " <__main__.Fun at 0x1109b5550>,\n",
       " <__main__.Fun at 0x1109aca50>]"
      ]
     },
     "execution_count": 11,
     "metadata": {},
     "output_type": "execute_result"
    }
   ],
   "source": [
    "fun1 = Fun(1)\n",
    "fun2 = Fun(2)\n",
    "fun3 = Fun(3)\n",
    "fun4 = Fun(4)\n",
    "fun5 = Fun(5)\n",
    "funs = [fun5,fun3,fun2, fun1, fun4]\n",
    "funs"
   ]
  },
  {
   "cell_type": "code",
   "execution_count": 14,
   "metadata": {},
   "outputs": [
    {
     "data": {
      "text/plain": [
       "[<__main__.Fun at 0x1109b5550>,\n",
       " <__main__.Fun at 0x1109b5510>,\n",
       " <__main__.Fun at 0x1109b5590>,\n",
       " <__main__.Fun at 0x1109aca50>,\n",
       " <__main__.Fun at 0x1109b55d0>]"
      ]
     },
     "execution_count": 14,
     "metadata": {},
     "output_type": "execute_result"
    }
   ],
   "source": [
    "funs.sort(key=lambda x: x.funny, reverse=True)\n",
    "funs"
   ]
  },
  {
   "cell_type": "code",
   "execution_count": 15,
   "metadata": {},
   "outputs": [
    {
     "name": "stdout",
     "output_type": "stream",
     "text": [
      "1\n",
      "2\n",
      "3\n",
      "4\n",
      "5\n"
     ]
    }
   ],
   "source": [
    "for i in funs:\n",
    "    print(i.funny)"
   ]
  },
  {
   "cell_type": "code",
   "execution_count": null,
   "metadata": {},
   "outputs": [],
   "source": []
  }
 ],
 "metadata": {
  "kernelspec": {
   "display_name": "Python 3",
   "language": "python",
   "name": "python3"
  },
  "language_info": {
   "codemirror_mode": {
    "name": "ipython",
    "version": 3
   },
   "file_extension": ".py",
   "mimetype": "text/x-python",
   "name": "python",
   "nbconvert_exporter": "python",
   "pygments_lexer": "ipython3",
   "version": "3.7.4"
  }
 },
 "nbformat": 4,
 "nbformat_minor": 4
}
