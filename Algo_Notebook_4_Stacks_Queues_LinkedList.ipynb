{
 "cells": [
  {
   "cell_type": "code",
   "execution_count": 1,
   "metadata": {},
   "outputs": [],
   "source": [
    "class StackWithMax: \n",
    "    def __init__(self):               \n",
    "        self.stack = []  \n",
    "        self.max = [] \n",
    "  \n",
    "    def push(self, x): \n",
    "        self.stack.append(x)  \n",
    "        \n",
    "        if (len(self.stack) == 1): \n",
    "            self.max.append(x)  \n",
    "            return\n",
    "    \n",
    "        if (x > self.max[-1]):  \n",
    "            self.max.append(x)  \n",
    "        else: \n",
    "            self.max.append(self.max[-1]) \n",
    "  \n",
    "    def getMax(self): \n",
    "        return self.max[-1] \n",
    "  \n",
    "    def pop(self): \n",
    "        self.stack.pop()  \n",
    "        self.max.pop() \n",
    "        "
   ]
  },
  {
   "cell_type": "code",
   "execution_count": 2,
   "metadata": {},
   "outputs": [
    {
     "data": {
      "text/plain": [
       "4"
      ]
     },
     "execution_count": 2,
     "metadata": {},
     "output_type": "execute_result"
    }
   ],
   "source": [
    "s = StackWithMax()\n",
    "s.push(4)\n",
    "s.getMax()"
   ]
  },
  {
   "cell_type": "code",
   "execution_count": 3,
   "metadata": {},
   "outputs": [
    {
     "data": {
      "text/plain": [
       "4"
      ]
     },
     "execution_count": 3,
     "metadata": {},
     "output_type": "execute_result"
    }
   ],
   "source": [
    "s.push(2)\n",
    "s.getMax()"
   ]
  },
  {
   "cell_type": "code",
   "execution_count": 4,
   "metadata": {},
   "outputs": [
    {
     "data": {
      "text/plain": [
       "40"
      ]
     },
     "execution_count": 4,
     "metadata": {},
     "output_type": "execute_result"
    }
   ],
   "source": [
    "s.push(40)\n",
    "s.getMax()"
   ]
  },
  {
   "cell_type": "code",
   "execution_count": 5,
   "metadata": {},
   "outputs": [
    {
     "data": {
      "text/plain": [
       "4"
      ]
     },
     "execution_count": 5,
     "metadata": {},
     "output_type": "execute_result"
    }
   ],
   "source": [
    "s.pop()\n",
    "s.getMax()"
   ]
  },
  {
   "cell_type": "markdown",
   "metadata": {},
   "source": [
    "```\n",
    "\n",
    "\n",
    "\n",
    "\n",
    "\n",
    "```\n",
    "\n"
   ]
  },
  {
   "cell_type": "markdown",
   "metadata": {},
   "source": [
    "Queue with 2 stacks"
   ]
  },
  {
   "cell_type": "code",
   "execution_count": 35,
   "metadata": {},
   "outputs": [],
   "source": [
    "class Stack:\n",
    "    def __init__(self):\n",
    "        self.val = []\n",
    "    \n",
    "    def push(self, x):\n",
    "        self.val.append(x)\n",
    "    \n",
    "    def pop(self):\n",
    "        if self.val: return self.val.pop() \n",
    "    \n",
    "    def peek(self):\n",
    "        return self.val[-1]\n",
    "    \n",
    "    def size(self):\n",
    "        return len(self.val)\n",
    "    \n",
    "    def __len__(self):\n",
    "        return len(self.val)"
   ]
  },
  {
   "cell_type": "code",
   "execution_count": 36,
   "metadata": {},
   "outputs": [],
   "source": [
    "a = Stack()\n",
    "b = Stack()"
   ]
  },
  {
   "cell_type": "code",
   "execution_count": 37,
   "metadata": {},
   "outputs": [],
   "source": [
    "class QueueWithStack():\n",
    "    def __init__(self):\n",
    "        self.a = Stack()\n",
    "        self.b = Stack()\n",
    "        \n",
    "    def push(self, x):\n",
    "        self.a.push(x)\n",
    "    def remove(self):\n",
    "        if len(self.b):\n",
    "            return self.b.pop()\n",
    "        else:\n",
    "            while len(self.a):\n",
    "                self.b.push(self.a.pop())\n",
    "            return self.b.pop()\n",
    "    \n",
    "    "
   ]
  },
  {
   "cell_type": "code",
   "execution_count": 45,
   "metadata": {},
   "outputs": [],
   "source": [
    "q = QueueWithStack()\n",
    "q.push(1)\n",
    "q.push(2)\n",
    "q.push(3)\n",
    "q.push(4)\n",
    "q.push(5)"
   ]
  },
  {
   "cell_type": "code",
   "execution_count": 46,
   "metadata": {},
   "outputs": [
    {
     "data": {
      "text/plain": [
       "1"
      ]
     },
     "execution_count": 46,
     "metadata": {},
     "output_type": "execute_result"
    }
   ],
   "source": [
    "q.remove()"
   ]
  },
  {
   "cell_type": "code",
   "execution_count": 47,
   "metadata": {},
   "outputs": [
    {
     "data": {
      "text/plain": [
       "2"
      ]
     },
     "execution_count": 47,
     "metadata": {},
     "output_type": "execute_result"
    }
   ],
   "source": [
    "q.remove()"
   ]
  },
  {
   "cell_type": "code",
   "execution_count": 48,
   "metadata": {},
   "outputs": [],
   "source": [
    "q.push(6)\n",
    "q.push(7)"
   ]
  },
  {
   "cell_type": "code",
   "execution_count": 49,
   "metadata": {},
   "outputs": [
    {
     "data": {
      "text/plain": [
       "3"
      ]
     },
     "execution_count": 49,
     "metadata": {},
     "output_type": "execute_result"
    }
   ],
   "source": [
    "q.remove()"
   ]
  },
  {
   "cell_type": "code",
   "execution_count": 50,
   "metadata": {},
   "outputs": [
    {
     "data": {
      "text/plain": [
       "7"
      ]
     },
     "execution_count": 50,
     "metadata": {},
     "output_type": "execute_result"
    }
   ],
   "source": [
    "q.remove()\n",
    "q.remove()\n",
    "q.remove()\n",
    "q.remove()"
   ]
  },
  {
   "cell_type": "markdown",
   "metadata": {},
   "source": [
    "- Stack with 2 Queue : Similar technique => copy all from q1 to q2 until one element remains and remove that.\n",
    "- 2 stacks with size-limited array : maintain pointers"
   ]
  },
  {
   "cell_type": "code",
   "execution_count": null,
   "metadata": {},
   "outputs": [],
   "source": [
    "[1,2,4,q,q,q,q,2,1]"
   ]
  },
  {
   "cell_type": "markdown",
   "metadata": {},
   "source": [
    "### Expression-evaluation\n",
    "\n",
    "[Check this for more details.](https://www.geeksforgeeks.org/expression-evaluation/)\n",
    "[Also see this.](http://faculty.cs.niu.edu/~hutchins/csci241/eval.htm)"
   ]
  },
  {
   "cell_type": "code",
   "execution_count": 72,
   "metadata": {},
   "outputs": [],
   "source": [
    "a = \"1+2+3-(1*5)/5\"\n",
    "b = \"1+2-(34+))\"\n",
    "c = \"((({}}))\""
   ]
  },
  {
   "cell_type": "code",
   "execution_count": 73,
   "metadata": {},
   "outputs": [],
   "source": [
    "def check_parentheses(a):\n",
    "    stack = Stack()\n",
    "    matchers = {\n",
    "        \")\" : \"(\",\n",
    "        \"}\" : \"{\",\n",
    "        \"]\" : \"[\",\n",
    "    }\n",
    "    for i in a:\n",
    "        if i in matchers.values():\n",
    "            stack.push(i)\n",
    "        elif i in matchers.keys():\n",
    "            if len(stack) and stack.peek()==matchers[i]:\n",
    "                stack.pop()\n",
    "            else:\n",
    "                return False\n",
    "\n",
    "    if len(stack):\n",
    "        return False\n",
    "    return True    "
   ]
  },
  {
   "cell_type": "code",
   "execution_count": 74,
   "metadata": {},
   "outputs": [
    {
     "data": {
      "text/plain": [
       "True"
      ]
     },
     "execution_count": 74,
     "metadata": {},
     "output_type": "execute_result"
    }
   ],
   "source": [
    "check_parentheses(a)"
   ]
  },
  {
   "cell_type": "code",
   "execution_count": 75,
   "metadata": {},
   "outputs": [
    {
     "data": {
      "text/plain": [
       "False"
      ]
     },
     "execution_count": 75,
     "metadata": {},
     "output_type": "execute_result"
    }
   ],
   "source": [
    "check_parentheses(b)"
   ]
  },
  {
   "cell_type": "code",
   "execution_count": 76,
   "metadata": {},
   "outputs": [
    {
     "data": {
      "text/plain": [
       "False"
      ]
     },
     "execution_count": 76,
     "metadata": {},
     "output_type": "execute_result"
    }
   ],
   "source": [
    "check_parentheses(c)"
   ]
  },
  {
   "cell_type": "code",
   "execution_count": 83,
   "metadata": {},
   "outputs": [],
   "source": [
    "# infix : a*(b+c)\n",
    "# postfix : abc+*\n",
    "# prefix : *a+bc\n",
    "# two stacks => operator & operand\n",
    "\n",
    "\n",
    "def compute_postfix(expr):\n",
    "    stack = Stack()\n",
    "    for i in expr: \n",
    "        if i.isdigit(): \n",
    "            stack.push(i)         \n",
    "        else: \n",
    "            val1 = stack.pop() \n",
    "            val2 = stack.pop() \n",
    "            stack.push(str(eval(val2 + i + val1))) \n",
    "  \n",
    "    return int(stack.pop()) \n",
    "    "
   ]
  },
  {
   "cell_type": "code",
   "execution_count": 84,
   "metadata": {},
   "outputs": [
    {
     "data": {
      "text/plain": [
       "5"
      ]
     },
     "execution_count": 84,
     "metadata": {},
     "output_type": "execute_result"
    }
   ],
   "source": [
    "compute_postfix(\"123+*\")"
   ]
  },
  {
   "cell_type": "markdown",
   "metadata": {},
   "source": [
    "```\n",
    "\n",
    "\n",
    "\n",
    "\n",
    "```\n",
    "\n",
    "\n",
    "Find the moving average of last k numbers in a given list. [1,2,3,4,5,6,7,8] => 2, 3, 4, 5, 6, 7 for k=3"
   ]
  },
  {
   "cell_type": "code",
   "execution_count": 93,
   "metadata": {},
   "outputs": [],
   "source": [
    "def moving_averages(a, k):\n",
    "    deque = []\n",
    "    moving_sum = 0\n",
    "    avgs = []\n",
    "    for i in a:\n",
    "        if len(deque) == k:\n",
    "            moving_sum -= deque.pop(0)\n",
    "        deque.append(i)\n",
    "        moving_sum += i\n",
    "        if len(deque) == k:\n",
    "            avgs.append(moving_sum/k)\n",
    "    return avgs\n",
    "            "
   ]
  },
  {
   "cell_type": "code",
   "execution_count": 94,
   "metadata": {},
   "outputs": [
    {
     "data": {
      "text/plain": [
       "[2.0, 3.0, 4.0, 5.0, 6.0, 7.0]"
      ]
     },
     "execution_count": 94,
     "metadata": {},
     "output_type": "execute_result"
    }
   ],
   "source": [
    "moving_averages([1,2,3,4,5,6,7,8] , 3)"
   ]
  },
  {
   "cell_type": "markdown",
   "metadata": {},
   "source": [
    "```\n",
    "\n",
    "\n",
    "\n",
    "\n",
    "\n",
    "\n",
    "\n",
    "```\n",
    "### Linked-List\n",
    "\n",
    "1=>2=>3=>4=>5\n",
    "\n",
    "1<=>2<=>3\n",
    "\n",
    "\n",
    "1=>2=>3=>1"
   ]
  },
  {
   "cell_type": "code",
   "execution_count": 210,
   "metadata": {},
   "outputs": [],
   "source": [
    "class Node:\n",
    "    def __init__(self, x, nxt=None):\n",
    "        self.data = x\n",
    "        self.next = nxt    "
   ]
  },
  {
   "cell_type": "code",
   "execution_count": 211,
   "metadata": {},
   "outputs": [],
   "source": [
    "ll = Node(1, Node(2, Node(3, Node(4, Node(5)))))"
   ]
  },
  {
   "cell_type": "code",
   "execution_count": 212,
   "metadata": {},
   "outputs": [
    {
     "data": {
      "text/plain": [
       "1"
      ]
     },
     "execution_count": 212,
     "metadata": {},
     "output_type": "execute_result"
    }
   ],
   "source": [
    "ll.data"
   ]
  },
  {
   "cell_type": "code",
   "execution_count": 213,
   "metadata": {},
   "outputs": [
    {
     "data": {
      "text/plain": [
       "2"
      ]
     },
     "execution_count": 213,
     "metadata": {},
     "output_type": "execute_result"
    }
   ],
   "source": [
    "ll.next.data"
   ]
  },
  {
   "cell_type": "code",
   "execution_count": 214,
   "metadata": {},
   "outputs": [
    {
     "data": {
      "text/plain": [
       "4"
      ]
     },
     "execution_count": 214,
     "metadata": {},
     "output_type": "execute_result"
    }
   ],
   "source": [
    "ll = ll.next.next.next\n",
    "ll.data"
   ]
  },
  {
   "cell_type": "code",
   "execution_count": 215,
   "metadata": {},
   "outputs": [],
   "source": [
    "ll = Node(1, Node(2, Node(3, Node(4, Node(5)))))"
   ]
  },
  {
   "cell_type": "code",
   "execution_count": 216,
   "metadata": {},
   "outputs": [],
   "source": [
    "def get_size(head):\n",
    "    if not head:\n",
    "        return 0\n",
    "    curr = head\n",
    "    size = 1\n",
    "    while curr.next is not None :\n",
    "        curr = curr.next\n",
    "        size+=1\n",
    "    return size"
   ]
  },
  {
   "cell_type": "code",
   "execution_count": 217,
   "metadata": {},
   "outputs": [
    {
     "data": {
      "text/plain": [
       "5"
      ]
     },
     "execution_count": 217,
     "metadata": {},
     "output_type": "execute_result"
    }
   ],
   "source": [
    "get_size(ll)"
   ]
  },
  {
   "cell_type": "markdown",
   "metadata": {},
   "source": [
    "Reverse a ll:  1=>2=>3 ________  2 ________ 1<=2<=3"
   ]
  },
  {
   "cell_type": "code",
   "execution_count": 218,
   "metadata": {},
   "outputs": [],
   "source": [
    "def reverse_ll(head):\n",
    "    \n",
    "    curr, prev = head, None\n",
    "    \n",
    "    while curr is not None:\n",
    "        nxt = curr.next\n",
    "        curr.next = prev\n",
    "        prev = curr\n",
    "        curr = nxt\n",
    "    return prev"
   ]
  },
  {
   "cell_type": "code",
   "execution_count": 219,
   "metadata": {},
   "outputs": [],
   "source": [
    "rev = reverse_ll(Node(1, Node(2, Node(3, Node(4, Node(5))))))"
   ]
  },
  {
   "cell_type": "code",
   "execution_count": 220,
   "metadata": {},
   "outputs": [
    {
     "name": "stdout",
     "output_type": "stream",
     "text": [
      "5\n",
      "4\n",
      "3\n",
      "2\n",
      "1\n"
     ]
    }
   ],
   "source": [
    "def printll(head):\n",
    "    while head is not None:\n",
    "        print(head.data)\n",
    "        head = head.next\n",
    "printll(rev)"
   ]
  },
  {
   "cell_type": "code",
   "execution_count": 153,
   "metadata": {},
   "outputs": [],
   "source": [
    "a = Node(0)\n",
    "ll = Node(1, Node(2, Node(3, Node(4, Node(5, a)))))\n",
    "a.next = ll"
   ]
  },
  {
   "cell_type": "code",
   "execution_count": 158,
   "metadata": {},
   "outputs": [
    {
     "data": {
      "text/plain": [
       "True"
      ]
     },
     "execution_count": 158,
     "metadata": {},
     "output_type": "execute_result"
    }
   ],
   "source": [
    "a.next.next.next.next.next.next is a"
   ]
  },
  {
   "cell_type": "code",
   "execution_count": 159,
   "metadata": {},
   "outputs": [],
   "source": [
    "a = Node(0)\n",
    "ll = Node(1, Node(2, Node(3, a)))\n",
    "b = Node(7)\n",
    "a.next = Node(4, Node(5, Node(6, b)))\n",
    "b.next = a"
   ]
  },
  {
   "cell_type": "code",
   "execution_count": 190,
   "metadata": {},
   "outputs": [
    {
     "data": {
      "text/plain": [
       "0"
      ]
     },
     "execution_count": 190,
     "metadata": {},
     "output_type": "execute_result"
    }
   ],
   "source": [
    "ll.next.next.next.next.next.next.next.next.data"
   ]
  },
  {
   "cell_type": "code",
   "execution_count": 191,
   "metadata": {},
   "outputs": [
    {
     "data": {
      "text/plain": [
       "0"
      ]
     },
     "execution_count": 191,
     "metadata": {},
     "output_type": "execute_result"
    }
   ],
   "source": [
    "ll.next.next.next.data"
   ]
  },
  {
   "cell_type": "code",
   "execution_count": 198,
   "metadata": {},
   "outputs": [],
   "source": [
    "def find_loop(head):\n",
    "    slow = fast = head\n",
    "    isloop = False\n",
    "    \n",
    "    while fast is not None:\n",
    "        fast = fast.next\n",
    "        \n",
    "        if fast == slow:\n",
    "            isloop = True\n",
    "            break\n",
    "        if fast is not None:\n",
    "            fast = fast.next\n",
    "            if fast == slow:\n",
    "                isloop = True\n",
    "                break\n",
    "        slow = slow.next\n",
    "    \n",
    "    if isloop :\n",
    "        \n",
    "        loop_size = 1\n",
    "        fast = fast.next\n",
    "        while fast is not slow:\n",
    "            fast = fast.next\n",
    "            loop_size += 1\n",
    "            \n",
    "        slow = fast = head\n",
    "        for i in range(loop_size):\n",
    "            fast = fast.next \n",
    "        \n",
    "        while(fast!=slow):\n",
    "            slow = slow.next\n",
    "            fast = fast.next\n",
    "        \n",
    "        return slow, loop_size\n",
    "    \n",
    "    else:\n",
    "        return False"
   ]
  },
  {
   "cell_type": "code",
   "execution_count": 201,
   "metadata": {},
   "outputs": [],
   "source": [
    "start, size = find_loop(ll)"
   ]
  },
  {
   "cell_type": "code",
   "execution_count": 202,
   "metadata": {},
   "outputs": [
    {
     "data": {
      "text/plain": [
       "0"
      ]
     },
     "execution_count": 202,
     "metadata": {},
     "output_type": "execute_result"
    }
   ],
   "source": [
    "start.data"
   ]
  },
  {
   "cell_type": "code",
   "execution_count": 203,
   "metadata": {},
   "outputs": [
    {
     "data": {
      "text/plain": [
       "5"
      ]
     },
     "execution_count": 203,
     "metadata": {},
     "output_type": "execute_result"
    }
   ],
   "source": [
    "size"
   ]
  },
  {
   "cell_type": "code",
   "execution_count": 237,
   "metadata": {},
   "outputs": [],
   "source": [
    "def delete_node(head, x):\n",
    "    \n",
    "    if head.data == x:\n",
    "        return head.next\n",
    "    \n",
    "    curr = head\n",
    "    prev = None\n",
    "    \n",
    "    while(curr is not None and curr.data!=x):  \n",
    "        prev = curr\n",
    "        curr = curr.next\n",
    "    \n",
    "    if curr == None:\n",
    "        return head\n",
    "    prev.next = curr.next\n",
    "    return head"
   ]
  },
  {
   "cell_type": "code",
   "execution_count": 238,
   "metadata": {},
   "outputs": [
    {
     "name": "stdout",
     "output_type": "stream",
     "text": [
      "1\n",
      "2\n",
      "4\n",
      "5\n"
     ]
    }
   ],
   "source": [
    "ll = Node(1, Node(2, Node(3, Node(4, Node(5)))))\n",
    "ll = delete_node(ll, 3)\n",
    "printll(ll)"
   ]
  },
  {
   "cell_type": "code",
   "execution_count": 239,
   "metadata": {},
   "outputs": [
    {
     "name": "stdout",
     "output_type": "stream",
     "text": [
      "2\n",
      "4\n",
      "5\n"
     ]
    }
   ],
   "source": [
    "ll = delete_node(ll, 1)\n",
    "printll(ll)"
   ]
  },
  {
   "cell_type": "code",
   "execution_count": 240,
   "metadata": {},
   "outputs": [
    {
     "name": "stdout",
     "output_type": "stream",
     "text": [
      "2\n",
      "4\n"
     ]
    }
   ],
   "source": [
    "ll = delete_node(ll, 5)\n",
    "printll(ll)"
   ]
  },
  {
   "cell_type": "code",
   "execution_count": 241,
   "metadata": {},
   "outputs": [
    {
     "name": "stdout",
     "output_type": "stream",
     "text": [
      "2\n",
      "4\n"
     ]
    }
   ],
   "source": [
    "ll = delete_node(ll, 1)\n",
    "printll(ll)"
   ]
  },
  {
   "cell_type": "markdown",
   "metadata": {},
   "source": [
    "### Binary Trees"
   ]
  },
  {
   "cell_type": "code",
   "execution_count": 165,
   "metadata": {},
   "outputs": [],
   "source": [
    "class Node:\n",
    "    def __init__(self,x, left=None, right=None):\n",
    "        self.val = x\n",
    "        self.left = left\n",
    "        self.right = right"
   ]
  },
  {
   "cell_type": "code",
   "execution_count": null,
   "metadata": {},
   "outputs": [],
   "source": []
  },
  {
   "cell_type": "code",
   "execution_count": null,
   "metadata": {},
   "outputs": [],
   "source": []
  },
  {
   "cell_type": "code",
   "execution_count": null,
   "metadata": {},
   "outputs": [],
   "source": []
  }
 ],
 "metadata": {
  "kernelspec": {
   "display_name": "Python 3",
   "language": "python",
   "name": "python3"
  },
  "language_info": {
   "codemirror_mode": {
    "name": "ipython",
    "version": 3
   },
   "file_extension": ".py",
   "mimetype": "text/x-python",
   "name": "python",
   "nbconvert_exporter": "python",
   "pygments_lexer": "ipython3",
   "version": "3.7.4"
  }
 },
 "nbformat": 4,
 "nbformat_minor": 4
}
