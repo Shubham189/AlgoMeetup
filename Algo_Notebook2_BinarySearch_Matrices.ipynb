{
 "cells": [
  {
   "cell_type": "markdown",
   "metadata": {},
   "source": [
    "## Binary Search Problems\n",
    "\n",
    "\n",
    "- Given a sorted array that can contain duplicates, find the first occurrence of the\n",
    "target element. For example:\n",
    "A = [1, 3, 14, 23, 23, 23, 56] and Target = 23, return index 3. "
   ]
  },
  {
   "cell_type": "code",
   "execution_count": 2,
   "metadata": {},
   "outputs": [],
   "source": [
    "def binary_search_dups(a, k):\n",
    "    \n",
    "    if(k is None or a is None or not a):  \n",
    "        return None\n",
    "    \n",
    "    high = len(a)-1  \n",
    "    low = 0\n",
    "    while(low<=high):\n",
    "        mid = low + (high-low)//2  \n",
    "        if(k < a[mid] or (a[mid]==k and mid>0 and a[mid-1]==k)):\n",
    "            high = mid-1\n",
    "        \n",
    "        elif(k > a[mid]):\n",
    "            low = mid+1\n",
    "\n",
    "        else:\n",
    "            return mid\n",
    "            \n",
    "    return None"
   ]
  },
  {
   "cell_type": "code",
   "execution_count": 6,
   "metadata": {},
   "outputs": [],
   "source": [
    "a = [1, 13, 20, 23, 23, 23, 56] "
   ]
  },
  {
   "cell_type": "code",
   "execution_count": 12,
   "metadata": {},
   "outputs": [
    {
     "data": {
      "text/plain": [
       "3"
      ]
     },
     "execution_count": 12,
     "metadata": {},
     "output_type": "execute_result"
    }
   ],
   "source": [
    "binary_search_dups(a, 23)"
   ]
  },
  {
   "cell_type": "markdown",
   "metadata": {},
   "source": [
    "- Using Binary Search to determine length of an array of unknown size. [Check this](https://stackoverflow.com/questions/16513429/binary-search-on-unknown-size-array)"
   ]
  },
  {
   "cell_type": "code",
   "execution_count": 3,
   "metadata": {},
   "outputs": [],
   "source": [
    "def find_length(a):\n",
    "    if(a is None):  \n",
    "        return 0\n",
    "    try:\n",
    "        a[0]\n",
    "    except:\n",
    "        return 0\n",
    "    \n",
    "    multiplier=2\n",
    "    prev_idx = 0\n",
    "    curr_idx = 1\n",
    "    while True:\n",
    "        try:\n",
    "            if a[curr_idx]!=None:   # Try without \"!=None\" and see what happens!!\n",
    "                try:\n",
    "                    a[curr_idx+1]\n",
    "                except:\n",
    "                    return curr_idx+1\n",
    "                prev_idx=curr_idx\n",
    "                curr_idx*=multiplier\n",
    "                continue\n",
    "        except:\n",
    "            curr_idx = prev_idx + (curr_idx-prev_idx)//2\n",
    "            continue"
   ]
  },
  {
   "cell_type": "code",
   "execution_count": 10,
   "metadata": {},
   "outputs": [
    {
     "data": {
      "text/plain": [
       "20"
      ]
     },
     "execution_count": 10,
     "metadata": {},
     "output_type": "execute_result"
    }
   ],
   "source": [
    "find_length([1,2,3,4,5,6,6,6,6,6,6,6,6,6,6,6,6,70,8,9])"
   ]
  },
  {
   "cell_type": "markdown",
   "metadata": {},
   "source": [
    "- Find the closest number to the target. Example: A = [1,12,30,43,67,89]. Target = 49 => Return 43. Target = 56 => Return 67. Target = 30 => Return 30."
   ]
  },
  {
   "cell_type": "code",
   "execution_count": 31,
   "metadata": {},
   "outputs": [],
   "source": [
    "def find_closest(a, k):\n",
    "    if(k is None or a is None or not a):  \n",
    "        return None\n",
    "    high= len(a) - 1\n",
    "    low = 0\n",
    "    closest = -1\n",
    "    while(low<=high):\n",
    "        mid = low + (high-low)//2\n",
    "        closest = closest if abs(a[mid]-k) > abs(a[closest]-k) else mid\n",
    "        if a[mid]>k:\n",
    "            high = mid - 1\n",
    "        elif a[mid]<k:\n",
    "            low = mid + 1\n",
    "        else:\n",
    "            return mid, a[mid]\n",
    "    return closest, a[closest]"
   ]
  },
  {
   "cell_type": "code",
   "execution_count": 32,
   "metadata": {},
   "outputs": [],
   "source": [
    "a = [1,12,30,43,67,89]"
   ]
  },
  {
   "cell_type": "code",
   "execution_count": 40,
   "metadata": {},
   "outputs": [
    {
     "data": {
      "text/plain": [
       "(4, 67)"
      ]
     },
     "execution_count": 40,
     "metadata": {},
     "output_type": "execute_result"
    }
   ],
   "source": [
    "find_closest(a, 77)"
   ]
  },
  {
   "cell_type": "markdown",
   "metadata": {},
   "source": [
    "- find target in a rotated sorted list. Example: A = [1, 12, 30, 43, 67, 89]. Rotated by 3 => [43, 67, 89, 1, 12, 30] "
   ]
  },
  {
   "cell_type": "code",
   "execution_count": 52,
   "metadata": {},
   "outputs": [],
   "source": [
    "def search_in_rotated(a, k):\n",
    "    if(k is None or a is None or not a):  \n",
    "        return None\n",
    "    size = len(a)    \n",
    "    high= size - 1\n",
    "    low = 0\n",
    "    pivot = a[high]\n",
    "    offset = search_min(a)\n",
    "    \n",
    "    while(low<=high):\n",
    "        mid = low + (high-low)//2\n",
    "        \n",
    "        if a[(mid+offset)%size] > k :\n",
    "            high = mid-1\n",
    "        elif a[(mid+offset)%size] < k :\n",
    "            low = mid+1\n",
    "        else:\n",
    "            return (mid+offset)%size, k\n",
    "    return None\n",
    "\n",
    "def search_min(a):\n",
    "    if(a is None or not a):  \n",
    "        return None\n",
    "    low = 0\n",
    "    high = len(a) - 1\n",
    "    right = a[high]\n",
    "    \n",
    "    while(low<=high):\n",
    "        mid = low +(high-low)//2\n",
    "        \n",
    "        if a[mid]<=right and (mid==0 or a[mid-1]>a[mid]) :\n",
    "            return mid\n",
    "        elif a[mid]>right:\n",
    "            low = mid+1\n",
    "        else:\n",
    "            high = mid-1"
   ]
  },
  {
   "cell_type": "code",
   "execution_count": 53,
   "metadata": {},
   "outputs": [
    {
     "data": {
      "text/plain": [
       "(0, 43)"
      ]
     },
     "execution_count": 53,
     "metadata": {},
     "output_type": "execute_result"
    }
   ],
   "source": [
    "search_in_rotated([43, 67, 89, 1, 12, 30] , 43)"
   ]
  },
  {
   "cell_type": "code",
   "execution_count": 57,
   "metadata": {},
   "outputs": [],
   "source": [
    "def search_in_rotated(a, k):\n",
    "    if(k is None or a is None or not a):  \n",
    "        return None\n",
    "    size = len(a)    \n",
    "    high= size - 1\n",
    "    low = 0\n",
    "    \n",
    "    while low<=high :\n",
    "        mid = low + (high-low)//2\n",
    "        \n",
    "        if a[mid] == k :\n",
    "            return mid, k\n",
    "        elif a[low] <= a[mid]:\n",
    "            if a[low]<=k and a[mid]>k:\n",
    "                high = mid-1\n",
    "            else:\n",
    "                low = mid+1\n",
    "        else:\n",
    "            if a[mid]<k and a[high]>=k:\n",
    "                low = mid+1\n",
    "            else:\n",
    "                high = mid-1\n",
    "    \n",
    "    return None\n",
    "        \n",
    "    "
   ]
  },
  {
   "cell_type": "code",
   "execution_count": 63,
   "metadata": {},
   "outputs": [
    {
     "data": {
      "text/plain": [
       "(3, 1)"
      ]
     },
     "execution_count": 63,
     "metadata": {},
     "output_type": "execute_result"
    }
   ],
   "source": [
    "search_in_rotated([43, 67, 89, 1, 12, 30] , 1)"
   ]
  },
  {
   "cell_type": "markdown",
   "metadata": {},
   "source": [
    "```\n",
    "\n",
    "\n",
    "\n",
    "\n",
    "\n",
    "```"
   ]
  },
  {
   "cell_type": "markdown",
   "metadata": {},
   "source": [
    "## Matrices (2D Lists)"
   ]
  },
  {
   "cell_type": "code",
   "execution_count": 69,
   "metadata": {},
   "outputs": [
    {
     "data": {
      "text/plain": [
       "[[1, 2, 3], [4, 5, 6], [7, 8, 9]]"
      ]
     },
     "execution_count": 69,
     "metadata": {},
     "output_type": "execute_result"
    }
   ],
   "source": [
    "mat = [[1,2,3],[4,5,6],[7,8,9]]\n",
    "mat"
   ]
  },
  {
   "cell_type": "markdown",
   "metadata": {},
   "source": [
    "``` \n",
    "1, 2, 3\n",
    "4, 5, 6  -->  1, 2, 3, 4, 5, 6, 7, 8, 9\n",
    "7, 8, 9\n",
    "\n",
    "0, 1, 2,    (0, 0), (0, 1), (0, 2)\n",
    "3, 4, 5  -->(1, 0), (1, 1), (1, 2)\n",
    "\n",
    "\n",
    "Here, mat[row][col] represents listy[row*colum_length + col]\n",
    "\n",
    "```"
   ]
  },
  {
   "cell_type": "code",
   "execution_count": 97,
   "metadata": {},
   "outputs": [],
   "source": [
    "def search_matrix(mat, k):\n",
    "    if(k is None or a is None or not a):  \n",
    "        return None\n",
    "    m = len(mat)\n",
    "    n = len(mat[0])\n",
    "    high = m*n -1 \n",
    "    low = 0\n",
    "    #i = 0\n",
    "    while(low<high):\n",
    "      #  i+=1\n",
    "        mid = low + (high-low)//2        \n",
    "        row = mid//m\n",
    "        col = mid%n\n",
    "        \n",
    "        if mat[row][col] == k:\n",
    "            return row, col\n",
    "        elif mat[row][col]> k:\n",
    "            high = mid-1\n",
    "        else:\n",
    "            low = low+1\n",
    "    return None"
   ]
  },
  {
   "cell_type": "code",
   "execution_count": 98,
   "metadata": {},
   "outputs": [
    {
     "data": {
      "text/plain": [
       "(0, 2, 3)"
      ]
     },
     "execution_count": 98,
     "metadata": {},
     "output_type": "execute_result"
    }
   ],
   "source": [
    "search_matrix(mat, 3)"
   ]
  },
  {
   "cell_type": "code",
   "execution_count": 101,
   "metadata": {},
   "outputs": [],
   "source": [
    "def search_matrix(mat, k):\n",
    "    if(k is None or a is None or not a):  \n",
    "        return None\n",
    "    row = 0\n",
    "    col = len(mat[0])-1\n",
    "    #i = 0\n",
    "    while row<len(mat) and col>=0:\n",
    "        #i+=1\n",
    "        if mat[row][col]>k:\n",
    "            col-=1\n",
    "        elif mat[row][col]<k:\n",
    "            row+=1\n",
    "        else:\n",
    "            return row, col\n",
    "    "
   ]
  },
  {
   "cell_type": "code",
   "execution_count": 102,
   "metadata": {},
   "outputs": [
    {
     "data": {
      "text/plain": [
       "(0, 2)"
      ]
     },
     "execution_count": 102,
     "metadata": {},
     "output_type": "execute_result"
    }
   ],
   "source": [
    "search_matrix(mat, 3)"
   ]
  },
  {
   "cell_type": "code",
   "execution_count": null,
   "metadata": {},
   "outputs": [],
   "source": []
  }
 ],
 "metadata": {
  "kernelspec": {
   "display_name": "Python 3",
   "language": "python",
   "name": "python3"
  },
  "language_info": {
   "codemirror_mode": {
    "name": "ipython",
    "version": 3
   },
   "file_extension": ".py",
   "mimetype": "text/x-python",
   "name": "python",
   "nbconvert_exporter": "python",
   "pygments_lexer": "ipython3",
   "version": "3.7.4"
  }
 },
 "nbformat": 4,
 "nbformat_minor": 4
}
